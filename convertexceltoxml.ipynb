{
  "nbformat": 4,
  "nbformat_minor": 0,
  "metadata": {
    "colab": {
      "provenance": [],
      "toc_visible": true,
      "authorship_tag": "ABX9TyM3K2UmktK/4LTlvBSf7mUi",
      "include_colab_link": true
    },
    "kernelspec": {
      "name": "python3",
      "display_name": "Python 3"
    },
    "language_info": {
      "name": "python"
    }
  },
  "cells": [
    {
      "cell_type": "markdown",
      "metadata": {
        "id": "view-in-github",
        "colab_type": "text"
      },
      "source": [
        "<a href=\"https://colab.research.google.com/github/briantm1998/DataSciencePortfolio/blob/main/convertexceltoxml.ipynb\" target=\"_parent\"><img src=\"https://colab.research.google.com/assets/colab-badge.svg\" alt=\"Open In Colab\"/></a>"
      ]
    },
    {
      "cell_type": "code",
      "execution_count": 1,
      "metadata": {
        "id": "fCsHFBxwBryn"
      },
      "outputs": [],
      "source": [
        "from openpyxl import load_workbook\n"
      ]
    },
    {
      "cell_type": "code",
      "source": [
        "pip install yattag"
      ],
      "metadata": {
        "colab": {
          "base_uri": "https://localhost:8080/"
        },
        "id": "UZtuOsG6B_aL",
        "outputId": "fbc2cd44-b359-4068-b838-51514bb6f369"
      },
      "execution_count": 2,
      "outputs": [
        {
          "output_type": "stream",
          "name": "stdout",
          "text": [
            "Looking in indexes: https://pypi.org/simple, https://us-python.pkg.dev/colab-wheels/public/simple/\n",
            "Collecting yattag\n",
            "  Downloading yattag-1.14.0.tar.gz (26 kB)\n",
            "Building wheels for collected packages: yattag\n",
            "  Building wheel for yattag (setup.py) ... \u001b[?25l\u001b[?25hdone\n",
            "  Created wheel for yattag: filename=yattag-1.14.0-py3-none-any.whl size=15659 sha256=5a09a81d44ca31064a60fe4a09d5a0b8ac5243a1560be8ebb3788c994ef65c4f\n",
            "  Stored in directory: /root/.cache/pip/wheels/4d/32/61/f205e276a280e24c3fca996bd956781b2a0fbad498161e53f4\n",
            "Successfully built yattag\n",
            "Installing collected packages: yattag\n",
            "Successfully installed yattag-1.14.0\n"
          ]
        }
      ]
    },
    {
      "cell_type": "code",
      "source": [
        "from yattag import Doc, indent"
      ],
      "metadata": {
        "id": "pzDiHeD8CUgl"
      },
      "execution_count": 3,
      "outputs": []
    },
    {
      "cell_type": "code",
      "source": [
        "#loading the excel file\n",
        "wb = load_workbook(\"MCIB_LOA V1.xlsx\")\n",
        "# Getting an object of active sheet 1\n",
        "ws = wb.worksheets[0]"
      ],
      "metadata": {
        "id": "OqNEJXGyCiVr"
      },
      "execution_count": 4,
      "outputs": []
    },
    {
      "cell_type": "code",
      "source": [
        "# Returning returns a triplet\n",
        "doc, tag, text = Doc().tagtext()"
      ],
      "metadata": {
        "id": "t6hDY77RDSMR"
      },
      "execution_count": 5,
      "outputs": []
    },
    {
      "cell_type": "code",
      "source": [
        "xml_header = '<?xml version=\"1.0\" encoding=\"UTF-8\"?>'\n",
        "xml_schema = '<xs:schema xmlns:xs=\"http://www.w3.org/2001/XMLSchema\"></xs:schema>'"
      ],
      "metadata": {
        "id": "3iZJkhJEDX2g"
      },
      "execution_count": 6,
      "outputs": []
    },
    {
      "cell_type": "code",
      "source": [
        "doc.asis(xml_header)\n",
        "doc.asis(xml_schema)"
      ],
      "metadata": {
        "id": "GH7tITUxDXtE"
      },
      "execution_count": 7,
      "outputs": []
    },
    {
      "cell_type": "code",
      "source": [
        "with tag('Clients'):\n",
        "  for row in ws.iter_rows(min_row=2, max_row=None, min_col=1, max_col=39):\n",
        "      row = [cell.value for cell in row]\n",
        "      with tag(\"Clients\"):\n",
        "          with tag(\"RECORD_STATUS\"):\n",
        "            text(row[0])\n",
        "          with tag(\"ENTITY_CODE\"):\n",
        "            text(row[1])\n",
        "          with tag(\"ENTITY_TYPE\"):\n",
        "            text(row[2])\n",
        "          with tag(\"RESIDENT_FLAG\"):\n",
        "            text(row[3])\n",
        "          with tag(\"ENTITY_NAME\"):\n",
        "            text(row[4])\n",
        "          with tag(\"ENTITY_OTHER_NAME\"):\n",
        "            if (row[5] == None):\n",
        "                text()\n",
        "            else:\n",
        "             text(row[5])\n",
        "          with tag(\"DOB\"):\n",
        "            if (row[6] == None):\n",
        "                text()\n",
        "            else:\n",
        "              text(row[6])\n",
        "          with tag(\"SEX\"):\n",
        "            if (row[7] == None):\n",
        "                text()\n",
        "            else:\n",
        "             text(row[7])\n",
        "          \n",
        "          with tag(\"COUNTRY_CODE\"):\n",
        "            text(row[8])\n",
        "          with tag(\"PASSPORT_NO\"):\n",
        "            if (row[9] == None):\n",
        "                text()\n",
        "            else:\n",
        "             text(row[9])\n",
        "            \n",
        "          with tag(\"ADDRESS_1\"):\n",
        "            text(row[10])\n",
        "          with tag(\"ADDRESS_2\"):\n",
        "            text(row[11])\n",
        "          with tag(\"ADDRESS_3\"):\n",
        "            if (row[12] == None):\n",
        "                text()\n",
        "            else:\n",
        "             text(row[12])\n",
        "          with tag(\"ADDRESS_4\"):\n",
        "            if (row[13] == None):\n",
        "                text()\n",
        "            else:\n",
        "              text(row[13])\n",
        "          with tag(\"ADDRESS5\"):\n",
        "            if (row[14] == None):\n",
        "                text()\n",
        "            else:\n",
        "             text(row[14])\n",
        "          with tag(\"REF_NO\"):\n",
        "            text(row[15])\n",
        "          with tag(\"CREDIT_TYPE\"):\n",
        "            text(row[16])\n",
        "          with tag(\"DATE_APPROVED\"):\n",
        "            text(row[17])\n",
        "          with tag(\"PARENT_CO_NO\"):\n",
        "            text(row[17])\n",
        "          with tag(\"PARENT_CO_NAME\"):\n",
        "            if (row[18] == None):\n",
        "                text()\n",
        "            else:\n",
        "             text(row[18])\n",
        "          with tag(\"SECTOR_LOAN_CLASS\"):\n",
        "            if (row[19] == None):\n",
        "                text()\n",
        "            else:\n",
        "             text(row[19])\n",
        "          with tag(\"CURR\"):\n",
        "            text(row[20])\n",
        "          with tag(\"AMOUNT_ORG\"):\n",
        "            text(row[21])\n",
        "          with tag(\"AMOUNT_OUT\"):\n",
        "            text(row[21])\n",
        "          with tag(\"AMOUNT_DIS\"):\n",
        "            text(row[22])\n",
        "          with tag(\"DATE_UPDATE\"):\n",
        "            text(row[23])\n",
        "          with tag(\"AMOUNT_INST\"):\n",
        "            text(row[24])\n",
        "          with tag(\"DATE_FIRST_INST\"):\n",
        "            text(row[25])\n",
        "          with tag(\"PERIODICITY\"):\n",
        "            text(row[26])\n",
        "          with tag(\"DATE_LAST_INST\"):\n",
        "            text(row[27])\n",
        "          with tag(\"DATE_EXP\"):\n",
        "            text(row[28])\n",
        "          with tag(\"NO_INS\"):\n",
        "            text(row[29])\n",
        "          with tag(\"DATE_DEFAULT\"):\n",
        "            if (row[30] == None):\n",
        "                text()\n",
        "            else:\n",
        "             text(row[30])\n",
        "          with tag(\"BAL_DEFAULT\"):\n",
        "            if (row[31] == None):\n",
        "                text()\n",
        "            else:\n",
        "             text(row[31])\n",
        "          with tag(\"AMOUNT_ARRS\"):\n",
        "            if (row[32] == None):\n",
        "                text()\n",
        "            else:\n",
        "             text(row[32])\n",
        "          with tag(\"TYPE_CLASS\"):\n",
        "            if (row[33] == None):\n",
        "                text()\n",
        "            else:\n",
        "             text(row[33])\n",
        "          with tag(\"REMARKS\"):\n",
        "            if (row[34] == None):\n",
        "                text()\n",
        "            else:\n",
        "             text(row[34])\n",
        "          with tag(\"UNIQUE_REF_ID\"):\n",
        "            if (row[35] == None):\n",
        "                text()\n",
        "            else:\n",
        "             text(row[35])\n",
        "          with tag(\"DATE_REGULARISED\"):\n",
        "            if (row[36] == None):\n",
        "                text()\n",
        "            else:\n",
        "             text(row[36])\n",
        "          with tag(\"ACTION_TAKEN\"):\n",
        "            if (row[37] == None):\n",
        "                text()\n",
        "            else:\n",
        "             text(row[37])\n",
        "          with tag(\"ACTION_DATE\"):\n",
        "            if (row[38] == None):\n",
        "                text()\n",
        "            else:\n",
        "             text(row[38])\n",
        "            \n",
        "result = indent(\n",
        "    doc.getvalue(),\n",
        "    indentation='   ',\n",
        "    indent_text=True\n",
        ")\n",
        "  \n",
        "with open(\"output.xml\", \"w\") as f:\n",
        "    f.write(result)\n"
      ],
      "metadata": {
        "id": "fJK0kFufEGDJ"
      },
      "execution_count": 8,
      "outputs": []
    },
    {
      "cell_type": "code",
      "source": [],
      "metadata": {
        "id": "KC8FhQ5FDSI3"
      },
      "execution_count": null,
      "outputs": []
    },
    {
      "cell_type": "code",
      "source": [],
      "metadata": {
        "id": "MsrgIMgyDKZ4"
      },
      "execution_count": null,
      "outputs": []
    },
    {
      "cell_type": "code",
      "source": [],
      "metadata": {
        "id": "QNpmJcKcDKWX"
      },
      "execution_count": null,
      "outputs": []
    }
  ]
}
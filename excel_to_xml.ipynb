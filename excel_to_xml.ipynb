{
  "nbformat": 4,
  "nbformat_minor": 0,
  "metadata": {
    "colab": {
      "provenance": [],
      "authorship_tag": "ABX9TyOZG/fAEpY+dbpBV0YnVhlp",
      "include_colab_link": true
    },
    "kernelspec": {
      "name": "python3",
      "display_name": "Python 3"
    },
    "language_info": {
      "name": "python"
    }
  },
  "cells": [
    {
      "cell_type": "markdown",
      "metadata": {
        "id": "view-in-github",
        "colab_type": "text"
      },
      "source": [
        "<a href=\"https://colab.research.google.com/github/briantm1998/DataSciencePortfolio/blob/main/excel_to_xml.ipynb\" target=\"_parent\"><img src=\"https://colab.research.google.com/assets/colab-badge.svg\" alt=\"Open In Colab\"/></a>"
      ]
    },
    {
      "cell_type": "code",
      "execution_count": 1,
      "metadata": {
        "id": "zY805eudU64r"
      },
      "outputs": [],
      "source": [
        "import pandas as pd\n",
        "from lxml import etree as et"
      ]
    },
    {
      "cell_type": "code",
      "source": [
        "raw_data = pd.read_excel(r'MCIB_LOA V1.xlsx')"
      ],
      "metadata": {
        "id": "7pM4CDdGWD9Q"
      },
      "execution_count": 3,
      "outputs": []
    },
    {
      "cell_type": "code",
      "source": [
        "print(raw_data)"
      ],
      "metadata": {
        "colab": {
          "base_uri": "https://localhost:8080/"
        },
        "id": "AYRNcr1Zcj5l",
        "outputId": "1b233538-b031-4192-f8bd-8b25b980c4ae"
      },
      "execution_count": 5,
      "outputs": [
        {
          "output_type": "stream",
          "name": "stdout",
          "text": [
            "    RECORD_STATUS     ENTITY_CODE ENTITY_TYPE RESIDENT_FLAG  \\\n",
            "0               A          022089           C             R   \n",
            "1               A       03TH37469           I             N   \n",
            "2               A          055697           C             N   \n",
            "3               A          055697           C             N   \n",
            "4               A          055697           C             N   \n",
            "..            ...             ...         ...           ...   \n",
            "189             A        Z2825846           I             N   \n",
            "190             A        Z2987247           I             N   \n",
            "191             A        Z2987247           I             N   \n",
            "192             N            2398           C             R   \n",
            "193             N  D230592310439F           I             R   \n",
            "\n",
            "                            ENTITY_NAME  ENTITY_OTHER_NAME  DOB  SEX  \\\n",
            "0                  SOCIETE REVE DE GOLF                NaN  NaN  NaN   \n",
            "1    RAFAEL ANGE GEORGES MARIE RICHIERO                NaN  NaN    M   \n",
            "2             VIETNAM TECHNOLOGICAL AND                NaN  NaN  NaN   \n",
            "3             VIETNAM TECHNOLOGICAL AND                NaN  NaN  NaN   \n",
            "4             VIETNAM TECHNOLOGICAL AND                NaN  NaN  NaN   \n",
            "..                                  ...                ...  ...  ...   \n",
            "189               KARUNAGARAN SAMMANDAM                NaN  NaN    M   \n",
            "190                     SANDEEP CHAGGER                NaN  NaN    M   \n",
            "191                     SANDEEP CHAGGER                NaN  NaN    M   \n",
            "192  PANAGORA MARKETING COMPANY LIMITED                NaN  NaN  NaN   \n",
            "193       CHARLES PHILIPPE CLAYTON DAVY                NaN  NaN    M   \n",
            "\n",
            "    COUNTRY_CODE     PASSPORT_NO  ... NO_INST DATE_DEFAULT BAL_DEFAULT  \\\n",
            "0            MUR             NaN  ...     107          NaN         NaN   \n",
            "1             FR       03TH37469  ...      48   31052019.0    17246.85   \n",
            "2             VN             NaN  ...       1          NaN         NaN   \n",
            "3             VN             NaN  ...       1          NaN         NaN   \n",
            "4             VN             NaN  ...       1          NaN         NaN   \n",
            "..           ...             ...  ...     ...          ...         ...   \n",
            "189           IN        Z2825846  ...      84          NaN         NaN   \n",
            "190           IN        Z2987247  ...      72          NaN         NaN   \n",
            "191           IN        Z2987247  ...      60          NaN         NaN   \n",
            "192          MUR             NaN  ...       1          NaN         NaN   \n",
            "193           MU  D230592310439F  ...     351          NaN         NaN   \n",
            "\n",
            "    AMOUNT_ARRS  TYPE_CLASS REMARKS UNIQUE_REF_ID  DATE_REGULARISED  \\\n",
            "0           NaN         NaN     NaN  2.018111e+15               NaN   \n",
            "1     404436.19      1249.0     NaN  2.017030e+15               NaN   \n",
            "2           NaN         NaN     NaN  2.021103e+15               NaN   \n",
            "3           NaN         NaN     NaN  2.021103e+15               NaN   \n",
            "4           NaN         NaN     NaN  2.021111e+15               NaN   \n",
            "..          ...         ...     ...           ...               ...   \n",
            "189         NaN         NaN     NaN  2.021012e+15               NaN   \n",
            "190         NaN         NaN     NaN  2.017082e+15               NaN   \n",
            "191         NaN         NaN     NaN  2.017111e+15               NaN   \n",
            "192         NaN         NaN     NaN           NaN               NaN   \n",
            "193         NaN         NaN     NaN           NaN               NaN   \n",
            "\n",
            "     ACTION_TAKEN  ACTION_DATE  \n",
            "0             NaN          NaN  \n",
            "1             NaN          NaN  \n",
            "2             NaN          NaN  \n",
            "3             NaN          NaN  \n",
            "4             NaN          NaN  \n",
            "..            ...          ...  \n",
            "189           NaN          NaN  \n",
            "190           NaN          NaN  \n",
            "191           NaN          NaN  \n",
            "192           NaN          NaN  \n",
            "193           NaN          NaN  \n",
            "\n",
            "[194 rows x 41 columns]\n"
          ]
        }
      ]
    },
    {
      "cell_type": "code",
      "source": [
        "root = et.Element('MCIB')\n",
        "tag1 = et.SubElement(root, 'BANK', grp_id=\"AFBL\")\n",
        "\n"
      ],
      "metadata": {
        "id": "GGSK5cRwWeN6"
      },
      "execution_count": 24,
      "outputs": []
    },
    {
      "cell_type": "code",
      "source": [
        "for row in raw_data.iterrows(): \n",
        "    root_tags = et.SubElement(tag1, 'CREDIT', record_status=\"A\") #=== > Root name\n",
        "# These are the tag names for each row (SECTION 1)\n",
        "    Column_heading_1 = et.SubElement(root_tags, 'ENTITY_CODE')\n",
        "    Column_heading_2 = et.SubElement(root_tags, 'ENTITY_TYPE')\n",
        "    Column_heading_3 = et.SubElement(root_tags, 'RESIDENT_FLAG')\n",
        "    Column_heading_4 = et.SubElement(root_tags, 'ENTITY_NAME')\n",
        "    Column_heading_5 = et.SubElement(root_tags, 'ENTITY_OTHER_NAME')\n",
        "    Column_heading_6 = et.SubElement(root_tags, 'DOB')\n",
        "    Column_heading_7 = et.SubElement(root_tags, 'SEX')\n",
        "    Column_heading_8 = et.SubElement(root_tags, 'COUNTRY_CODE')\n",
        "    Column_heading_9 = et.SubElement(root_tags, 'PASSPORT_NO')\n",
        "    Column_heading_10 = et.SubElement(root_tags, 'ADDRESS_1')\n",
        "    Column_heading_11 = et.SubElement(root_tags, 'ADDRESS_2')\n",
        "    Column_heading_12 = et.SubElement(root_tags, 'ADDRESS_3')\n",
        "    Column_heading_13 = et.SubElement(root_tags, 'ADDRESS_4')\n",
        "    Column_heading_14 = et.SubElement(root_tags, 'ADDRESS5')\n",
        "    Column_heading_15 = et.SubElement(root_tags, 'REF_NO')\n",
        "    Column_heading_16 = et.SubElement(root_tags, 'CREDIT_TYPE')\n",
        "    Column_heading_17 = et.SubElement(root_tags, 'DATE_APPROVED')\n",
        "    Column_heading_18 = et.SubElement(root_tags, 'PARENT_CO_NO')\n",
        "    Column_heading_19 = et.SubElement(root_tags, 'PARENT_CO_NAME')\n",
        "    Column_heading_20 = et.SubElement(root_tags, 'SECTOR_LOAN_CLASS')\n",
        "    Column_heading_21 = et.SubElement(root_tags, 'CURR')\n",
        "    Column_heading_22 = et.SubElement(root_tags, 'AMOUNT_ORG')\n",
        "    Column_heading_23 = et.SubElement(root_tags, 'AMOUNT_OUT')\n",
        "    Column_heading_24 = et.SubElement(root_tags, 'AMOUNT_DIS')\n",
        "    Column_heading_25 = et.SubElement(root_tags, 'DATE_UPDATE')\n",
        "    Column_heading_26 = et.SubElement(root_tags, 'AMOUNT_INST')\n",
        "    Column_heading_27 = et.SubElement(root_tags, 'DATE_FIRST_INST')\n",
        "    Column_heading_28 = et.SubElement(root_tags, 'PERIODICITY')\n",
        "    Column_heading_29 = et.SubElement(root_tags, 'DATE_LAST_INST')\n",
        "    Column_heading_30 = et.SubElement(root_tags, 'DATE_EXP')\n",
        "    Column_heading_31 = et.SubElement(root_tags, 'NO_INST')\n",
        "    Column_heading_32 = et.SubElement(root_tags, 'DATE_DEFAULT')\n",
        "    Column_heading_33 = et.SubElement(root_tags, 'BAL_DEFAULT')\n",
        "    Column_heading_34 = et.SubElement(root_tags, 'AMOUNT_ARRS')\n",
        "    Column_heading_35 = et.SubElement(root_tags, 'TYPE_CLASS')\n",
        "    Column_heading_36 = et.SubElement(root_tags, 'REMARKS')\n",
        "    Column_heading_37 = et.SubElement(root_tags, 'UNIQUE_REF_ID')\n",
        "    Column_heading_38 = et.SubElement(root_tags, 'DATE_REGULARISED')\n",
        "    Column_heading_39 = et.SubElement(root_tags, 'ACTION_TAKEN')\n",
        "    Column_heading_40 = et.SubElement(root_tags, 'ACTION_DATE')\n",
        "\n",
        "    \n",
        "\n",
        "\n",
        "###These are the values that will be populated for each row above\n",
        "# The values inside the [] are the raw file column headings.(SECTION 2)\n",
        "    if (str == None):\n",
        "                text()\n",
        "    \n",
        "    Column_heading_1.text = str(row[1][ 'ENTITY_CODE'])\n",
        "    Column_heading_2.text = str(row[1][ 'ENTITY_TYPE'])\n",
        "    Column_heading_3.text = str(row[1][ 'RESIDENT_FLAG'])\n",
        "    Column_heading_4.text = str(row[1][ 'ENTITY_NAME'])\n",
        "    Column_heading_5.text = str(row[1][ 'ENTITY_OTHER_NAME'])\n",
        "    Column_heading_6.text = str(row[1][ 'DOB'])\n",
        "    Column_heading_7.text = str(row[1][ 'SEX'])\n",
        "    Column_heading_8.text = str(row[1]['COUNTRY_CODE'])\n",
        "    Column_heading_9.text = str(row[1]['PASSPORT_NO'])\n",
        "    Column_heading_10.text = str(row[1]['ADDRESS_1'])\n",
        "    Column_heading_11.text = str(row[1]['ADDRESS_2'])\n",
        "    Column_heading_12.text = str(row[1]['ADDRESS_3'])\n",
        "    Column_heading_13.text = str(row[1]['ADDRESS_4'])\n",
        "    Column_heading_14.text = str(row[1]['ADDRESS5'])\n",
        "    Column_heading_15.text = str(row[1]['REF_NO'])\n",
        "    Column_heading_16.text = str(row[1]['CREDIT_TYPE'])\n",
        "    Column_heading_17.text = str(row[1]['DATE_APPROVED'])\n",
        "    Column_heading_18.text = str(row[1]['PARENT_CO_NO'])\n",
        "    Column_heading_19.text = str(row[1]['PARENT_CO_NAME'])\n",
        "    Column_heading_20.text = str(row[1]['SECTOR_LOAN_CLASS'])\n",
        "    Column_heading_21.text = str(row[1]['CURR'])\n",
        "    Column_heading_22.text = str(row[1]['AMOUNT_ORG'])\n",
        "    Column_heading_23.text = str(row[1]['AMOUNT_OUT'])\n",
        "    Column_heading_24.text = str(row[1]['AMOUNT_DIS'])\n",
        "    Column_heading_25.text = str(row[1]['DATE_UPDATE'])\n",
        "    Column_heading_26.text = str(row[1]['AMOUNT_INST'])\n",
        "    Column_heading_27.text = str(row[1]['DATE_FIRST_INST'])\n",
        "    Column_heading_28.text = str(row[1]['PERIODICITY'])\n",
        "    Column_heading_29.text = str(row[1]['DATE_LAST_INST'])\n",
        "    Column_heading_30.text = str(row[1]['DATE_EXP'])\n",
        "    Column_heading_31.text = str(row[1]['NO_INST'])\n",
        "    Column_heading_32.text = str(row[1]['DATE_DEFAULT'])\n",
        "    Column_heading_33.text = str(row[1]['BAL_DEFAULT'])\n",
        "    Column_heading_34.text = str(row[1]['AMOUNT_ARRS'])\n",
        "    Column_heading_35.text = str(row[1]['TYPE_CLASS'])\n",
        "    Column_heading_36.text = str(row[1]['REMARKS'])\n",
        "    Column_heading_37.text = str(row[1]['UNIQUE_REF_ID'])\n",
        "    Column_heading_38.text = str(row[1]['DATE_REGULARISED'])\n",
        "    Column_heading_39.text = str(row[1]['ACTION_TAKEN'])\n",
        "    Column_heading_40.text = str(row[1]['ACTION_DATE'])\n",
        "    "
      ],
      "metadata": {
        "id": "xAjt-GttWsO-"
      },
      "execution_count": 27,
      "outputs": []
    },
    {
      "cell_type": "code",
      "source": [
        "tree = et.ElementTree(root)\n",
        "et.indent(tree, space=\"\\t\", level=0)\n",
        "tree.write('mcib_1.xml', encoding=\"utf-8\") "
      ],
      "metadata": {
        "id": "e2vTd17WgG2_"
      },
      "execution_count": 29,
      "outputs": []
    }
  ]
}